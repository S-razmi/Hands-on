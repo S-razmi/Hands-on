{
 "cells": [
  {
   "cell_type": "markdown",
   "metadata": {},
   "source": [
    "<div style=\"display:block;width:100%;margin:auto;\" direction=rtl align=center><br><br>\n",
    "    <div  style=\"width:100%;margin:100;display:block;background-color:#fff0;\"  display=block align=center>\n",
    "        <table style=\"border-style:hidden;border-collapse:collapse;\">\n",
    "            <tr>\n",
    "                <td  style=\"border: none!important;\">\n",
    "        <img width=130 align=right src=\"https://i.ibb.co/yXKQmtZ/logo1.png\" style=\"margin:0;\" />\n",
    "                </td>\n",
    "                <td style=\"text-align:center;border: none!important;\">\n",
    "                <h1 align=center><font size=5 color=\"#045F5F\"> <b>Statistical Inference (Fall 2023)</b><br><br></i></font></h1>\n",
    "                </td>\n",
    "                <td style=\"border: none!important;\">\n",
    "        <img width=170 align=left  src=\"https://i.ibb.co/wLjqFkw/logo2.png\" style=\"margin:0;\" />\n",
    "                </td>\n",
    "            </tr>\n",
    "        </table>\n",
    "    \n",
    "</div>\n",
    "<br>\n",
    "<font size=3 color=\"#045F5F\"><br></font><br>\n"
   ]
  },
  {
   "cell_type": "markdown",
   "metadata": {},
   "source": [
    "# **Hands-On 2**\n",
    "## **Topic:** Contingency Table\n",
    "### **Instructor:** Siavash Razmi\n",
    "### **Contact:** Siavashrazmi74@gmail.com"
   ]
  },
  {
   "cell_type": "markdown",
   "metadata": {},
   "source": [
    "# Table of Contents\n",
    "\n",
    "- [Introduction](#introduction)\n",
    "- [Example Scenario](#scenario)\n",
    "- [Contingency Table Construction](#construction)\n",
    "- [Table Components](#component)\n",
    "- [Conditional Properties](#properties)\n",
    "- [Conclusion](#conclusion)"
   ]
  },
  {
   "cell_type": "markdown",
   "metadata": {},
   "source": [
    "<div align='justify'>\n",
    "\n",
    "## **Introduction:**\n",
    "### **What is Contingency Table:**\n",
    "A Table that shows distribution of one categorical Variable in the rows and another categorical variable in the columns, It is often used to determine if the two variables have an association.<br>\n",
    "\n",
    "**Example:**\n",
    "|           | Category A | Category B |  Total |\n",
    "|-----------|------------|------------|-----------|\n",
    "| Group 1   | 25         | 15         | 40        |\n",
    "| Group 2   | 20         | 30         | 50        |\n",
    "|  Total | 45         | 45         | 90        |\n",
    "\n",
    "\n",
    "### **Why do we use it?**\n",
    "\n",
    "* **Organize and Display Categorical Data:**<br>\n",
    "   <br> Contingency tables efficiently organize and visually present categorical data.\n",
    "\n",
    "* **Explore Relationships and Dependencies:**\n",
    "   <br><br>Crucial for exploring associations and dependencies between categorical variables.\n",
    "\n",
    "* **Statistical Analysis and Hypothesis Testing:**\n",
    "   <br><br> Essential for hypothesis testing, enabling comparisons of proportions between different groups.\n",
    "\n",
    "* **Conditional Probabilities and Cross-Tabulation:**\n",
    "   <br><br> Facilitates the calculation and interpretation of conditional probabilities and supports cross-tabulation for easy comparison of frequencies or proportions.\n",
    "\n",
    "* **Decision Support and Simplified Interpretation:**\n",
    "   <br><br> Provides decision support by offering a structured view of data relationships and simplifies the interpretation of complex categorical data.\n",
    "</div>"
   ]
  },
  {
   "cell_type": "markdown",
   "metadata": {},
   "source": [
    "<a id=\"scenario\"></a>\n",
    "\n",
    "## Example Scenario:\n",
    "\n",
    "<div align='justify'>\n",
    "\n",
    "We generated a dataset to investigate course preferences in a classroom with around 120 students, comprising both boys and girls. The data includes two columns: \"Gender\" and \"Favorite_Course.\" The \"Gender\" column categorizes students as either male or female, while the \"Favorite_Course\" column indicates each student's preferred subject—Mathematics, History, or English Literature. This structured dataset allows for the creation of a contingency table to analyze the relationships between gender and course preferences.\n",
    "</div>"
   ]
  },
  {
   "cell_type": "code",
   "execution_count": 3,
   "metadata": {},
   "outputs": [
    {
     "data": {
      "text/html": [
       "<div>\n",
       "<style scoped>\n",
       "    .dataframe tbody tr th:only-of-type {\n",
       "        vertical-align: middle;\n",
       "    }\n",
       "\n",
       "    .dataframe tbody tr th {\n",
       "        vertical-align: top;\n",
       "    }\n",
       "\n",
       "    .dataframe thead th {\n",
       "        text-align: right;\n",
       "    }\n",
       "</style>\n",
       "<table border=\"1\" class=\"dataframe\">\n",
       "  <thead>\n",
       "    <tr style=\"text-align: right;\">\n",
       "      <th></th>\n",
       "      <th>Gender</th>\n",
       "      <th>Favorite_Course</th>\n",
       "    </tr>\n",
       "  </thead>\n",
       "  <tbody>\n",
       "    <tr>\n",
       "      <th>0</th>\n",
       "      <td>Male</td>\n",
       "      <td>Mathematics</td>\n",
       "    </tr>\n",
       "    <tr>\n",
       "      <th>1</th>\n",
       "      <td>Female</td>\n",
       "      <td>History</td>\n",
       "    </tr>\n",
       "    <tr>\n",
       "      <th>2</th>\n",
       "      <td>Male</td>\n",
       "      <td>English Literature</td>\n",
       "    </tr>\n",
       "    <tr>\n",
       "      <th>3</th>\n",
       "      <td>Male</td>\n",
       "      <td>Mathematics</td>\n",
       "    </tr>\n",
       "    <tr>\n",
       "      <th>4</th>\n",
       "      <td>Male</td>\n",
       "      <td>History</td>\n",
       "    </tr>\n",
       "  </tbody>\n",
       "</table>\n",
       "</div>"
      ],
      "text/plain": [
       "   Gender     Favorite_Course\n",
       "0    Male         Mathematics\n",
       "1  Female             History\n",
       "2    Male  English Literature\n",
       "3    Male         Mathematics\n",
       "4    Male             History"
      ]
     },
     "execution_count": 3,
     "metadata": {},
     "output_type": "execute_result"
    }
   ],
   "source": [
    "import pandas as pd\n",
    "import numpy as np\n",
    "\n",
    "# Set seed for reproducibility\n",
    "np.random.seed(42)\n",
    "\n",
    "# Define the categories\n",
    "gender_categories = ['Male', 'Female']\n",
    "course_categories = ['Mathematics', 'History', 'English Literature']\n",
    "\n",
    "# Generate random data\n",
    "data = {\n",
    "    'Gender': np.random.choice(gender_categories, size=120),\n",
    "    'Favorite_Course': np.random.choice(course_categories, size=120)\n",
    "}\n",
    "\n",
    "# Create a DataFrame\n",
    "df = pd.DataFrame(data)\n",
    "\n",
    "# Display the first few rows of the generated dataset\n",
    "df.head()"
   ]
  },
  {
   "cell_type": "code",
   "execution_count": 4,
   "metadata": {},
   "outputs": [
    {
     "data": {
      "image/png": "[encoded data removed]",
      "text/plain": [
       "<Figure size 1000x600 with 1 Axes>"
      ]
     },
     "metadata": {},
     "output_type": "display_data"
    }
   ],
   "source": [
    "import matplotlib.pyplot as plt\n",
    "import seaborn as sns\n",
    "\n",
    "# Set the style for the plot\n",
    "sns.set(style=\"whitegrid\")\n",
    "\n",
    "# Create a bar plot\n",
    "plt.figure(figsize=(10, 6))\n",
    "sns.countplot(x='Favorite_Course', hue='Gender', data=df, palette='pastel')\n",
    "\n",
    "# Add labels and title\n",
    "plt.title('Distribution of Favorite Courses Among Boys and Girls')\n",
    "plt.xlabel('Favorite Course')\n",
    "plt.ylabel('Count')\n",
    "\n",
    "# Show the plot\n",
    "plt.show()"
   ]
  },
  {
   "cell_type": "markdown",
   "metadata": {},
   "source": [
    "<a id=\"construction\"></a>\n",
    "\n",
    "## Contingency Table Construction:\n",
    "\n",
    "<div align='justify'>\n",
    "\n",
    "We constructed a contingency table to organize and analyze the distribution of favorite courses among a classroom of approximately 120 students, comprising both boys and girls. Utilizing the `pd.crosstab` function in Python, we created a table that cross-tabulates the counts of students based on their gender and favorite course preferences. The resulting contingency table provides a structured overview of the relationships between these categorical variables, forming the foundation for further analysis.\n",
    "</div>"
   ]
  },
  {
   "cell_type": "code",
   "execution_count": 7,
   "metadata": {},
   "outputs": [
    {
     "data": {
      "text/html": [
       "<div>\n",
       "<style scoped>\n",
       "    .dataframe tbody tr th:only-of-type {\n",
       "        vertical-align: middle;\n",
       "    }\n",
       "\n",
       "    .dataframe tbody tr th {\n",
       "        vertical-align: top;\n",
       "    }\n",
       "\n",
       "    .dataframe thead th {\n",
       "        text-align: right;\n",
       "    }\n",
       "</style>\n",
       "<table border=\"1\" class=\"dataframe\">\n",
       "  <thead>\n",
       "    <tr style=\"text-align: right;\">\n",
       "      <th>Favorite_Course</th>\n",
       "      <th>English Literature</th>\n",
       "      <th>History</th>\n",
       "      <th>Mathematics</th>\n",
       "      <th>Total</th>\n",
       "    </tr>\n",
       "    <tr>\n",
       "      <th>Gender</th>\n",
       "      <th></th>\n",
       "      <th></th>\n",
       "      <th></th>\n",
       "      <th></th>\n",
       "    </tr>\n",
       "  </thead>\n",
       "  <tbody>\n",
       "    <tr>\n",
       "      <th>Female</th>\n",
       "      <td>32</td>\n",
       "      <td>14</td>\n",
       "      <td>24</td>\n",
       "      <td>70</td>\n",
       "    </tr>\n",
       "    <tr>\n",
       "      <th>Male</th>\n",
       "      <td>13</td>\n",
       "      <td>15</td>\n",
       "      <td>22</td>\n",
       "      <td>50</td>\n",
       "    </tr>\n",
       "    <tr>\n",
       "      <th>Total</th>\n",
       "      <td>45</td>\n",
       "      <td>29</td>\n",
       "      <td>46</td>\n",
       "      <td>120</td>\n",
       "    </tr>\n",
       "  </tbody>\n",
       "</table>\n",
       "</div>"
      ],
      "text/plain": [
       "Favorite_Course  English Literature  History  Mathematics  Total\n",
       "Gender                                                          \n",
       "Female                           32       14           24     70\n",
       "Male                             13       15           22     50\n",
       "Total                            45       29           46    120"
      ]
     },
     "execution_count": 7,
     "metadata": {},
     "output_type": "execute_result"
    }
   ],
   "source": [
    "# Create a contingency table with marginal distributions\n",
    "contingency_table_with_margins = pd.crosstab(df['Gender'], df['Favorite_Course'], margins=True, margins_name='Total')\n",
    "\n",
    "# Display the contingency table with marginal distributions\n",
    "contingency_table_with_margins"
   ]
  },
  {
   "cell_type": "markdown",
   "metadata": {},
   "source": [
    "<a id=\"component\"></a>\n",
    "\n",
    "## Table Components:\n",
    "<div align='justify'>\n",
    "\n",
    "The contingency table consists of rows and columns representing key components of our dataset. Each row corresponds to a specific gender category (Male or Female), while each column represents a favorite course category (Mathematics, History, or English Literature). The cells within the table contain the counts of students falling into the corresponding gender and course categories. Additionally, row and column totals, known as marginal distributions, provide a comprehensive view of the overall distribution of preferences among students.\n",
    "\n",
    "</div>\n"
   ]
  },
  {
   "cell_type": "markdown",
   "metadata": {},
   "source": [
    "<a id=\"properties\"></a>\n",
    "\n",
    "## Conditional Properties:"
   ]
  },
  {
   "cell_type": "markdown",
   "metadata": {},
   "source": [
    "\n",
    "1. **Joint Probability:**\n",
    "   - What is the probability that a randomly chosen student is both a girl and likes Mathematics?\n",
    "     $$P(\\text{Girl and Math}) = \\frac{\\text{Count of Girls who like Math}}{\\text{Total Count of Students}} = \\frac{24}{120}$$\n",
    "\n",
    "2. **Conditional Probability:**\n",
    "   - Given that a student likes History, what is the probability that the student is a boy?\n",
    "     $$P(\\text{Boy | History}) = \\frac{\\text{Count of Boys who like History}}{\\text{Total Count of Students who like History}}=\\frac{15}{29}$$\n",
    "\n",
    "3. **Marginal Probability:**\n",
    "   - What is the probability that a student does not like History?\n",
    "     $$P(\\text{Not Like History}) = \\frac{\\text{Total Count of Students who do not like History}}{\\text{Total Count of Students}}=\\frac{91}{120}$$\n",
    "\n",
    "4. **Union Probability:**\n",
    "   - What is the probability that a student is a girl or likes English Literature?\n",
    "     $$P(\\text{Girl or English Lit}) = P(\\text{Girl}) + P(\\text{English Lit}) - P(\\text{Girl and English Lit})=\\frac{70}{120} + \\frac{45}{120} - \\frac{32}{120} $$\n",
    "\n",
    "5. **Conditional Probability with Marginal:**\n",
    "   - Given that a student does not like History, what is the probability that the student is a boy?\n",
    "     $$P(\\text{Boy | Not Like History}) = \\frac{\\text{Count of Boys who do not like History}}{\\text{Total Count of Students who do not like History}}=\\frac{35}{91}$$\n"
   ]
  },
  {
   "cell_type": "markdown",
   "metadata": {},
   "source": [
    "<a id=\"conclusion\"></a>\n",
    "\n",
    "## Conclusion:\n",
    "<div align='justify'>\n",
    "In conclusion, contingency tables are powerful tools for organizing and analyzing categorical data, providing insights into relationships and dependencies. Their applications extend to various fields, from statistical hypothesis testing to decision-making support, making them a fundamental asset for data analysts and researchers working with categorical variables. The structured presentation of data in contingency tables enhances the interpretability of patterns, contributing to informed insights and evidence-based decision-making.\n",
    "</div>"
   ]
  }
 ],
 "metadata": {
  "kernelspec": {
   "display_name": "tsa",
   "language": "python",
   "name": "python3"
  },
  "language_info": {
   "codemirror_mode": {
    "name": "ipython",
    "version": 3
   },
   "file_extension": ".py",
   "mimetype": "text/x-python",
   "name": "python",
   "nbconvert_exporter": "python",
   "pygments_lexer": "ipython3",
   "version": "3.8.16"
  }
 },
 "nbformat": 4,
 "nbformat_minor": 2
}
