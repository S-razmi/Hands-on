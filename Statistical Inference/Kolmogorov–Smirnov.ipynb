{
 "cells": [
  {
   "cell_type": "markdown",
   "metadata": {},
   "source": [
    "<div style=\"display:block;width:100%;margin:auto;\" direction=rtl align=center><br><br>\n",
    "    <div  style=\"width:100%;margin:100;display:block;background-color:#fff0;\"  display=block align=center>\n",
    "        <table style=\"border-style:hidden;border-collapse:collapse;\">\n",
    "            <tr>\n",
    "                <td  style=\"border: none!important;\">\n",
    "        <img width=130 align=right src=\"https://i.ibb.co/yXKQmtZ/logo1.png\" style=\"margin:0;\" />\n",
    "                </td>\n",
    "                <td style=\"text-align:center;border: none!important;\">\n",
    "                <h1 align=center><font size=5 color=\"#045F5F\"> <b>Statistical Inference (Fall 2023)</b><br><br></i></font></h1>\n",
    "                </td>\n",
    "                <td style=\"border: none!important;\">\n",
    "        <img width=170 align=left  src=\"https://i.ibb.co/wLjqFkw/logo2.png\" style=\"margin:0;\" />\n",
    "                </td>\n",
    "            </tr>\n",
    "        </table>\n",
    "    \n",
    "</div>\n",
    "<br>\n",
    "<font size=3 color=\"#045F5F\"><br></font><br>\n"
   ]
  },
  {
   "cell_type": "markdown",
   "metadata": {},
   "source": [
    "# **Hands-On 2**\n",
    "## **Topic:** Kolmogorov-Smirnov test\n",
    "### **Instructor:** Siavash Razmi\n",
    "### **Contact:** Siavashrazmi74@gmail.com"
   ]
  },
  {
   "cell_type": "markdown",
   "metadata": {},
   "source": [
    "# Table of Contents\n",
    "\n",
    "- [Introduction](#introduction)\n",
    "- [Example Scenario](#scenario)\n",
    "- [Test Execution](#execution)\n",
    "- [Conclusion](#conclusion)"
   ]
  },
  {
   "cell_type": "markdown",
   "metadata": {},
   "source": [
    "<a id=\"introduction\"></a>\n",
    "\n",
    "## **Introduction:**\n",
    "\n",
    "<div align='justify'>\n",
    "<p>\n",
    "The Kolmogorov-Smirnov (KS) test is a non-parametric statistical method used to assess the goodness-of-fit between a sample distribution and a specified theoretical distribution. It quantifies the maximum vertical deviation between the empirical cumulative distribution function (ECDF) of the sample data and the cumulative distribution function (CDF) of the theoretical distribution. The KS test is particularly effective when the underlying distributions are unknown or do not follow a specific parametric form.</p>\n",
    "\n",
    "### **When Do We Use It:**\n",
    "\n",
    "**Distributional Assumptions are Uncertain:** In cases where the assumption of a specific distributional form is unclear, the KS test offers a flexible approach to evaluate how well the sample data aligns with any theoretical distribution.\n",
    "\n",
    "**Comparing Empirical Data to a Reference Distribution:** When researchers need to determine whether observed data follows a known distribution (e.g., normal or exponential), the KS test provides a robust means of assessing this fit.\n",
    "\n",
    "**Model Validation in Simulation Studies:** In simulation studies, the KS test is frequently employed to validate the accuracy of generated data against a desired distribution, ensuring the reliability of simulation results.\n",
    "\n",
    "**Equality of Distributions:** It is useful in comparing two independent samples to assess whether they are drawn from the same distribution, aiding in the identification of differences between groups.\n",
    "</div>"
   ]
  },
  {
   "cell_type": "markdown",
   "metadata": {},
   "source": [
    "<a id=\"char\"></a>\n",
    "\n",
    "## **Characteristics and Limitations:**\n",
    "### **Pros:**\n",
    "- The distribution of the K-S test statistic itself does not depend on the underlying cumulative distribution function being tested.\n",
    "- It is an exact test (the chi-square goodness-of-fit test depends on an adequate sample size for the approximations to be valid).\n",
    "\n",
    "### **Cons:**\n",
    "- It only applies to continuous distributions.\n",
    "- It tends to be more sensitive near the center of the distribution than at the tails.\n",
    "- Perhaps the most serious limitation is that the distribution must be fully specified. That is, if location, scale, and shape parameters are estimated from the data, the critical region of the K-S test is no longer valid. It typically must be determined by simulation.\n"
   ]
  },
  {
   "cell_type": "markdown",
   "metadata": {},
   "source": [
    "<a id=\"exec\"></a>\n",
    "\n",
    "## **Execution of the test:**\n",
    "\n",
    "\n",
    "**Step 1: Formulate Hypotheses**\n",
    "- $H_0$: The sample data follows the specified theoretical distribution.\n",
    "- $H_1$: The sample data deviates significantly from the specified theoretical distribution.\n",
    "\n",
    "**Step 2: Order the Data**\n",
    "- Arrange the sample data in ascending order.\n",
    "\n",
    "**Step 3: Calculate the Empirical Cumulative Distribution Function (ECDF)**\n",
    "- For each data point, calculate the proportion of data points less than or equal to it. This creates the ECDF.\n",
    "\n",
    "**Step 4: Calculate the Theoretical Cumulative Distribution Function (CDF)**\n",
    "- For each data point, calculate the corresponding value from the theoretical distribution's CDF.\n",
    "\n",
    "**Step 5: Compute the KS Statistic**\n",
    "- Find the maximum absolute difference ($D$) between the ECDF and the theoretical CDF.\n",
    "\n",
    "**Step 6: Determine the Critical Value or P-value**\n",
    "- Compare the calculated KS statistic to the critical value from the KS distribution table or use software/tools to obtain the p-value.\n",
    "\n",
    "**Step 7: Make a Decision**\n",
    "- If the p-value is less than the chosen significance level ($\\alpha$), reject the null hypothesis. Otherwise, fail to reject the null hypothesis.\n"
   ]
  },
  {
   "cell_type": "markdown",
   "metadata": {},
   "source": [
    "<a id=\"scenario\"></a>\n",
    "\n",
    "## **Example Scenario:**\n"
   ]
  },
  {
   "cell_type": "code",
   "execution_count": 4,
   "metadata": {},
   "outputs": [],
   "source": [
    "import numpy as np\n",
    "from scipy.stats import ks_2samp"
   ]
  },
  {
   "cell_type": "code",
   "execution_count": 5,
   "metadata": {},
   "outputs": [
    {
     "data": {
      "image/png": "[encoded data removed]",
      "text/plain": [
       "<Figure size 1000x600 with 1 Axes>"
      ]
     },
     "metadata": {},
     "output_type": "display_data"
    }
   ],
   "source": [
    "import numpy as np\n",
    "import matplotlib.pyplot as plt\n",
    "\n",
    "# Generate two sample distributions\n",
    "np.random.seed(42)\n",
    "distribution1 = np.random.normal(loc=0, scale=1, size=1000)\n",
    "distribution2 = np.random.normal(loc=2, scale=1, size=1000)\n",
    "\n",
    "# Plot histograms\n",
    "plt.figure(figsize=(10, 6))\n",
    "\n",
    "plt.hist(distribution1, bins=30, alpha=0.5, label='Distribution 1', color='blue')\n",
    "plt.hist(distribution2, bins=30, alpha=0.5, label='Distribution 2', color='orange')\n",
    "\n",
    "plt.title('Histogram Comparison of Two Distributions')\n",
    "plt.xlabel('Value')\n",
    "plt.ylabel('Frequency')\n",
    "plt.legend()\n",
    "\n",
    "plt.show()\n"
   ]
  },
  {
   "cell_type": "markdown",
   "metadata": {},
   "source": [
    "<a id=\"execution\"></a>\n",
    "\n",
    "### **Test Execution:**\n",
    "\n",
    "<div align='justify'>\n",
    "</div>"
   ]
  },
  {
   "cell_type": "code",
   "execution_count": 6,
   "metadata": {},
   "outputs": [
    {
     "name": "stdout",
     "output_type": "stream",
     "text": [
      "KS Statistic: 0.713\n",
      "P-value: 4.13683688024471e-245\n",
      "Reject the null hypothesis. The distributions are significantly different.\n"
     ]
    }
   ],
   "source": [
    "# Perform KS test\n",
    "ks_statistic, ks_p_value = ks_2samp(distribution1, distribution2)\n",
    "\n",
    "# Print results\n",
    "print(f\"KS Statistic: {ks_statistic}\")\n",
    "print(f\"P-value: {ks_p_value}\")\n",
    "\n",
    "# Make a Decision\n",
    "alpha = 0.05\n",
    "if ks_p_value < alpha:\n",
    "    print(\"Reject the null hypothesis. The distributions are significantly different.\")\n",
    "else:\n",
    "    print(\"Fail to reject the null hypothesis. There is no significant difference between the distributions.\")"
   ]
  },
  {
   "cell_type": "markdown",
   "metadata": {},
   "source": [
    "<a id=\"conclusion\"></a>\n",
    "\n",
    "## **Conclusion:**\n",
    "\n",
    "<div align='justify'>\n",
    "The Kolmogorov-Smirnov (KS) test is a statistical method employed to assess the goodness-of-fit between a sample distribution and a specified theoretical distribution or to compare two independent sample distributions. This non-parametric test is particularly useful when the underlying distributions are unknown or deviate from standard parametric assumptions.\n",
    "</div>"
   ]
  }
 ],
 "metadata": {
  "kernelspec": {
   "display_name": "tsa",
   "language": "python",
   "name": "python3"
  },
  "language_info": {
   "codemirror_mode": {
    "name": "ipython",
    "version": 3
   },
   "file_extension": ".py",
   "mimetype": "text/x-python",
   "name": "python",
   "nbconvert_exporter": "python",
   "pygments_lexer": "ipython3",
   "version": "3.8.16"
  }
 },
 "nbformat": 4,
 "nbformat_minor": 2
}
